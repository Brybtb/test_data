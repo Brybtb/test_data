{
 "cells": [
  {
   "cell_type": "code",
   "execution_count": 2,
   "metadata": {},
   "outputs": [],
   "source": [
    "import pandas as pd\n",
    "import numpy as np\n",
    "import datetime as dt\n",
    "import math\n",
    "import seaborn as sns"
   ]
  },
  {
   "cell_type": "code",
   "execution_count": 3,
   "metadata": {},
   "outputs": [],
   "source": [
    "raw = pd.read_excel('S&P_500_Researcher_Dataset_1979_-_2018.xlsx', sheet_name=None)"
   ]
  },
  {
   "cell_type": "code",
   "execution_count": 10,
   "metadata": {},
   "outputs": [
    {
     "data": {
      "text/plain": [
       "pandas.core.frame.DataFrame"
      ]
     },
     "execution_count": 10,
     "metadata": {},
     "output_type": "execute_result"
    }
   ],
   "source": [
    "raw_share_prices = raw['Share Prices']\n",
    "type(raw_share_prices)"
   ]
  },
  {
   "cell_type": "code",
   "execution_count": 13,
   "metadata": {},
   "outputs": [],
   "source": [
    "raw_share_prices = raw_share_prices.fillna(0)"
   ]
  },
  {
   "cell_type": "code",
   "execution_count": 14,
   "metadata": {},
   "outputs": [
    {
     "data": {
      "text/html": [
       "<div>\n",
       "<style scoped>\n",
       "    .dataframe tbody tr th:only-of-type {\n",
       "        vertical-align: middle;\n",
       "    }\n",
       "\n",
       "    .dataframe tbody tr th {\n",
       "        vertical-align: top;\n",
       "    }\n",
       "\n",
       "    .dataframe thead th {\n",
       "        text-align: right;\n",
       "    }\n",
       "</style>\n",
       "<table border=\"1\" class=\"dataframe\">\n",
       "  <thead>\n",
       "    <tr style=\"text-align: right;\">\n",
       "      <th></th>\n",
       "      <th>Ticker</th>\n",
       "      <th>ISIN Code</th>\n",
       "      <th>Company Name</th>\n",
       "      <th>1979-03-31 00:00:00</th>\n",
       "      <th>1979-06-30 00:00:00</th>\n",
       "      <th>1979-09-30 00:00:00</th>\n",
       "      <th>1979-12-31 00:00:00</th>\n",
       "      <th>1980-03-31 00:00:00</th>\n",
       "      <th>1980-06-30 00:00:00</th>\n",
       "      <th>1980-09-30 00:00:00</th>\n",
       "      <th>...</th>\n",
       "      <th>2017-12-31 00:00:00</th>\n",
       "      <th>2018-01-31 00:00:00</th>\n",
       "      <th>2018-02-28 00:00:00</th>\n",
       "      <th>2018-03-31 00:00:00</th>\n",
       "      <th>2018-04-30 00:00:00</th>\n",
       "      <th>2018-05-31 00:00:00</th>\n",
       "      <th>2018-06-30 00:00:00</th>\n",
       "      <th>2018-07-31 00:00:00</th>\n",
       "      <th>2018-08-31 00:00:00</th>\n",
       "      <th>2018-09-30 00:00:00</th>\n",
       "    </tr>\n",
       "  </thead>\n",
       "  <tbody>\n",
       "    <tr>\n",
       "      <th>0</th>\n",
       "      <td>A</td>\n",
       "      <td>US00846U1016</td>\n",
       "      <td>Agilent Technologies Inc.</td>\n",
       "      <td>0.00</td>\n",
       "      <td>0.00</td>\n",
       "      <td>0.00</td>\n",
       "      <td>0.00</td>\n",
       "      <td>0.00</td>\n",
       "      <td>0.00</td>\n",
       "      <td>0.0</td>\n",
       "      <td>...</td>\n",
       "      <td>66.97</td>\n",
       "      <td>73.43</td>\n",
       "      <td>68.59</td>\n",
       "      <td>66.90</td>\n",
       "      <td>65.74</td>\n",
       "      <td>61.92</td>\n",
       "      <td>61.84</td>\n",
       "      <td>66.04</td>\n",
       "      <td>67.54</td>\n",
       "      <td>70.54</td>\n",
       "    </tr>\n",
       "    <tr>\n",
       "      <th>1</th>\n",
       "      <td>AA</td>\n",
       "      <td>US0138171014</td>\n",
       "      <td>Alcoa Inc</td>\n",
       "      <td>54.38</td>\n",
       "      <td>51.38</td>\n",
       "      <td>58.88</td>\n",
       "      <td>54.88</td>\n",
       "      <td>58.25</td>\n",
       "      <td>58.75</td>\n",
       "      <td>72.5</td>\n",
       "      <td>...</td>\n",
       "      <td>0.00</td>\n",
       "      <td>0.00</td>\n",
       "      <td>0.00</td>\n",
       "      <td>0.00</td>\n",
       "      <td>0.00</td>\n",
       "      <td>0.00</td>\n",
       "      <td>0.00</td>\n",
       "      <td>0.00</td>\n",
       "      <td>0.00</td>\n",
       "      <td>0.00</td>\n",
       "    </tr>\n",
       "    <tr>\n",
       "      <th>2</th>\n",
       "      <td>AAL</td>\n",
       "      <td>US02376R1023</td>\n",
       "      <td>American Airlines Group</td>\n",
       "      <td>0.00</td>\n",
       "      <td>0.00</td>\n",
       "      <td>0.00</td>\n",
       "      <td>0.00</td>\n",
       "      <td>0.00</td>\n",
       "      <td>0.00</td>\n",
       "      <td>0.0</td>\n",
       "      <td>...</td>\n",
       "      <td>52.03</td>\n",
       "      <td>54.32</td>\n",
       "      <td>54.25</td>\n",
       "      <td>51.96</td>\n",
       "      <td>42.93</td>\n",
       "      <td>43.54</td>\n",
       "      <td>37.96</td>\n",
       "      <td>39.54</td>\n",
       "      <td>40.48</td>\n",
       "      <td>41.33</td>\n",
       "    </tr>\n",
       "    <tr>\n",
       "      <th>3</th>\n",
       "      <td>AAL (Alex)</td>\n",
       "      <td>US0144761055</td>\n",
       "      <td>Alexander &amp; Alexander</td>\n",
       "      <td>0.00</td>\n",
       "      <td>0.00</td>\n",
       "      <td>0.00</td>\n",
       "      <td>0.00</td>\n",
       "      <td>0.00</td>\n",
       "      <td>0.00</td>\n",
       "      <td>0.0</td>\n",
       "      <td>...</td>\n",
       "      <td>0.00</td>\n",
       "      <td>0.00</td>\n",
       "      <td>0.00</td>\n",
       "      <td>0.00</td>\n",
       "      <td>0.00</td>\n",
       "      <td>0.00</td>\n",
       "      <td>0.00</td>\n",
       "      <td>0.00</td>\n",
       "      <td>0.00</td>\n",
       "      <td>0.00</td>\n",
       "    </tr>\n",
       "    <tr>\n",
       "      <th>4</th>\n",
       "      <td>AAP</td>\n",
       "      <td>US00751Y1064</td>\n",
       "      <td>Advance Auto Parts Inc</td>\n",
       "      <td>0.00</td>\n",
       "      <td>0.00</td>\n",
       "      <td>0.00</td>\n",
       "      <td>0.00</td>\n",
       "      <td>0.00</td>\n",
       "      <td>0.00</td>\n",
       "      <td>0.0</td>\n",
       "      <td>...</td>\n",
       "      <td>99.69</td>\n",
       "      <td>116.99</td>\n",
       "      <td>114.25</td>\n",
       "      <td>118.55</td>\n",
       "      <td>114.45</td>\n",
       "      <td>128.62</td>\n",
       "      <td>135.70</td>\n",
       "      <td>141.23</td>\n",
       "      <td>164.03</td>\n",
       "      <td>168.33</td>\n",
       "    </tr>\n",
       "  </tbody>\n",
       "</table>\n",
       "<p>5 rows × 272 columns</p>\n",
       "</div>"
      ],
      "text/plain": [
       "       Ticker     ISIN Code               Company Name  1979-03-31 00:00:00  \\\n",
       "0           A  US00846U1016  Agilent Technologies Inc.                 0.00   \n",
       "1          AA  US0138171014                  Alcoa Inc                54.38   \n",
       "2         AAL  US02376R1023    American Airlines Group                 0.00   \n",
       "3  AAL (Alex)  US0144761055      Alexander & Alexander                 0.00   \n",
       "4         AAP  US00751Y1064     Advance Auto Parts Inc                 0.00   \n",
       "\n",
       "   1979-06-30 00:00:00  1979-09-30 00:00:00  1979-12-31 00:00:00  \\\n",
       "0                 0.00                 0.00                 0.00   \n",
       "1                51.38                58.88                54.88   \n",
       "2                 0.00                 0.00                 0.00   \n",
       "3                 0.00                 0.00                 0.00   \n",
       "4                 0.00                 0.00                 0.00   \n",
       "\n",
       "   1980-03-31 00:00:00  1980-06-30 00:00:00  1980-09-30 00:00:00  \\\n",
       "0                 0.00                 0.00                  0.0   \n",
       "1                58.25                58.75                 72.5   \n",
       "2                 0.00                 0.00                  0.0   \n",
       "3                 0.00                 0.00                  0.0   \n",
       "4                 0.00                 0.00                  0.0   \n",
       "\n",
       "          ...           2017-12-31 00:00:00  2018-01-31 00:00:00  \\\n",
       "0         ...                         66.97                73.43   \n",
       "1         ...                          0.00                 0.00   \n",
       "2         ...                         52.03                54.32   \n",
       "3         ...                          0.00                 0.00   \n",
       "4         ...                         99.69               116.99   \n",
       "\n",
       "   2018-02-28 00:00:00  2018-03-31 00:00:00  2018-04-30 00:00:00  \\\n",
       "0                68.59                66.90                65.74   \n",
       "1                 0.00                 0.00                 0.00   \n",
       "2                54.25                51.96                42.93   \n",
       "3                 0.00                 0.00                 0.00   \n",
       "4               114.25               118.55               114.45   \n",
       "\n",
       "   2018-05-31 00:00:00  2018-06-30 00:00:00  2018-07-31 00:00:00  \\\n",
       "0                61.92                61.84                66.04   \n",
       "1                 0.00                 0.00                 0.00   \n",
       "2                43.54                37.96                39.54   \n",
       "3                 0.00                 0.00                 0.00   \n",
       "4               128.62               135.70               141.23   \n",
       "\n",
       "   2018-08-31 00:00:00  2018-09-30 00:00:00  \n",
       "0                67.54                70.54  \n",
       "1                 0.00                 0.00  \n",
       "2                40.48                41.33  \n",
       "3                 0.00                 0.00  \n",
       "4               164.03               168.33  \n",
       "\n",
       "[5 rows x 272 columns]"
      ]
     },
     "execution_count": 14,
     "metadata": {},
     "output_type": "execute_result"
    }
   ],
   "source": [
    "raw_share_prices.head()"
   ]
  },
  {
   "cell_type": "code",
   "execution_count": 27,
   "metadata": {},
   "outputs": [],
   "source": [
    "raw_share_prices.set_index(raw_share_prices['Ticker'], inplace=True)"
   ]
  },
  {
   "cell_type": "code",
   "execution_count": 53,
   "metadata": {},
   "outputs": [],
   "source": [
    "test_data = raw_share_prices.loc[['MSFT', 'AAPL', 'HD', 'JNJ']]\n"
   ]
  },
  {
   "cell_type": "code",
   "execution_count": 71,
   "metadata": {},
   "outputs": [],
   "source": [
    "import matplotlib.pyplot as plt"
   ]
  },
  {
   "cell_type": "code",
   "execution_count": 72,
   "metadata": {},
   "outputs": [],
   "source": [
    "test_data.plot\n",
    "plt.show()"
   ]
  },
  {
   "cell_type": "code",
   "execution_count": null,
   "metadata": {},
   "outputs": [],
   "source": []
  },
  {
   "cell_type": "code",
   "execution_count": null,
   "metadata": {},
   "outputs": [],
   "source": []
  },
  {
   "cell_type": "code",
   "execution_count": null,
   "metadata": {},
   "outputs": [],
   "source": []
  },
  {
   "cell_type": "code",
   "execution_count": null,
   "metadata": {},
   "outputs": [],
   "source": []
  },
  {
   "cell_type": "code",
   "execution_count": null,
   "metadata": {},
   "outputs": [],
   "source": [
    "raw_share_prices.transpose()"
   ]
  },
  {
   "cell_type": "code",
   "execution_count": 20,
   "metadata": {},
   "outputs": [
    {
     "data": {
      "text/plain": [
       "[RangeIndex(start=0, stop=1405, step=1),\n",
       " Index([           'Ticker',         'ISIN Code',      'Company Name',\n",
       "        1979-03-31 00:00:00, 1979-06-30 00:00:00, 1979-09-30 00:00:00,\n",
       "        1979-12-31 00:00:00, 1980-03-31 00:00:00, 1980-06-30 00:00:00,\n",
       "        1980-09-30 00:00:00,\n",
       "        ...\n",
       "        2017-12-31 00:00:00, 2018-01-31 00:00:00, 2018-02-28 00:00:00,\n",
       "        2018-03-31 00:00:00, 2018-04-30 00:00:00, 2018-05-31 00:00:00,\n",
       "        2018-06-30 00:00:00, 2018-07-31 00:00:00, 2018-08-31 00:00:00,\n",
       "        2018-09-30 00:00:00],\n",
       "       dtype='object', length=272)]"
      ]
     },
     "execution_count": 20,
     "metadata": {},
     "output_type": "execute_result"
    }
   ],
   "source": [
    "raw_share_prices.axes"
   ]
  },
  {
   "cell_type": "code",
   "execution_count": null,
   "metadata": {},
   "outputs": [],
   "source": []
  },
  {
   "cell_type": "code",
   "execution_count": null,
   "metadata": {},
   "outputs": [],
   "source": []
  },
  {
   "cell_type": "code",
   "execution_count": null,
   "metadata": {},
   "outputs": [],
   "source": []
  },
  {
   "cell_type": "code",
   "execution_count": null,
   "metadata": {},
   "outputs": [],
   "source": []
  },
  {
   "cell_type": "code",
   "execution_count": null,
   "metadata": {},
   "outputs": [],
   "source": []
  },
  {
   "cell_type": "code",
   "execution_count": null,
   "metadata": {},
   "outputs": [],
   "source": []
  },
  {
   "cell_type": "code",
   "execution_count": null,
   "metadata": {},
   "outputs": [],
   "source": []
  },
  {
   "cell_type": "code",
   "execution_count": null,
   "metadata": {},
   "outputs": [],
   "source": []
  },
  {
   "cell_type": "code",
   "execution_count": null,
   "metadata": {},
   "outputs": [],
   "source": []
  }
 ],
 "metadata": {
  "kernelspec": {
   "display_name": "Python 3",
   "language": "python",
   "name": "python3"
  },
  "language_info": {
   "codemirror_mode": {
    "name": "ipython",
    "version": 3
   },
   "file_extension": ".py",
   "mimetype": "text/x-python",
   "name": "python",
   "nbconvert_exporter": "python",
   "pygments_lexer": "ipython3",
   "version": "3.6.5"
  }
 },
 "nbformat": 4,
 "nbformat_minor": 2
}
