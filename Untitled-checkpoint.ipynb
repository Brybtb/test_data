{
 "cells": [
  {
   "cell_type": "code",
   "execution_count": 89,
   "metadata": {},
   "outputs": [],
   "source": [
    "import pandas as pd\n",
    "import numpy as np\n",
    "import matplotlib.pyplot as plt\n",
    "import datetime as dt\n",
    "import seaborn as sns\n",
    "import plotly\n",
    "#plotly.tools.set_credentials_file(username='DemoAccount', api_key='lr1c37zw81')"
   ]
  },
  {
   "cell_type": "code",
   "execution_count": 90,
   "metadata": {},
   "outputs": [],
   "source": [
    "# Read CSV\n",
    "df = pd.read_excel('DivTest_MyView4.xls')\n"
   ]
  },
  {
   "cell_type": "code",
   "execution_count": 91,
   "metadata": {},
   "outputs": [],
   "source": [
    "# Remove Regex\n",
    "df.columns = df.columns.str.replace('\\r', '')\n",
    "\n",
    "df.columns = df.columns.str.replace('\\n', '')\n",
    "\n",
    "df.fillna(0)"
   ]
  },
  {
   "cell_type": "code",
   "execution_count": 96,
   "metadata": {},
   "outputs": [],
   "source": [
    "total = df['Dollar MarketValue'].sum()\n",
    "total_divs = df['Dollar DividendAmount'].sum()"
   ]
  },
  {
   "cell_type": "code",
   "execution_count": 97,
   "metadata": {},
   "outputs": [
    {
     "data": {
      "text/plain": [
       "Index(['Account Type', 'Name', 'Ticker', 'SharesHeld', 'PercentageWeight',\n",
       "       'Percentage SEC DividendYield', 'Dollar DividendAmount',\n",
       "       'PercentageDividendYield TTM', 'Percentage ForwardDividendYield',\n",
       "       'Dollar CurrentPrice', 'Percentage UnrealizedGain/LossSince Purch',\n",
       "       'Dollar UnrealizedGain/LossSince Purch', 'Dollar MarketValue',\n",
       "       'Analysis Date', 'Morningstar Rating For Funds',\n",
       "       'Morningstar Rating For Stocks', 'IndustryGroup', 'StockSector',\n",
       "       'StockSuper Sector', 'StockType',\n",
       "       'Percentage Percent Ownedby Mutual Funds', 'Number ofFunds Owning',\n",
       "       'Avg Star Rating of Funds Owning', 'FundManagerTenure',\n",
       "       'Percentage TurnoverRatio', 'Percentage PotentialCap GainsExposure',\n",
       "       'Role inPortfolio', 'HoldingType', 'Stock Industry/Fund Category',\n",
       "       'Dollar CostPer Share', 'DollarTotal Cost'],\n",
       "      dtype='object')"
      ]
     },
     "execution_count": 97,
     "metadata": {},
     "output_type": "execute_result"
    }
   ],
   "source": [
    "df.columns"
   ]
  },
  {
   "cell_type": "code",
   "execution_count": 98,
   "metadata": {},
   "outputs": [],
   "source": [
    "account_types = df.groupby(by='Account Type', as_index=True)"
   ]
  },
  {
   "cell_type": "code",
   "execution_count": 99,
   "metadata": {},
   "outputs": [
    {
     "data": {
      "image/png": "[encoded data removed]",
      "text/plain": [
       "<Figure size 432x288 with 1 Axes>"
      ]
     },
     "metadata": {},
     "output_type": "display_data"
    }
   ],
   "source": [
    "# Sum & Graph of account types and total account values\n",
    "total_account_value = account_types['Dollar MarketValue'].sum()\n",
    "\n",
    "total_account_value.plot(kind='bar')\n",
    "plt.show()"
   ]
  },
  {
   "cell_type": "code",
   "execution_count": 100,
   "metadata": {},
   "outputs": [],
   "source": [
    "divs_per_account = account_types['Dollar DividendAmount'].sum()"
   ]
  },
  {
   "cell_type": "code",
   "execution_count": 104,
   "metadata": {},
   "outputs": [
    {
     "data": {
      "image/png": "[encoded data removed]",
      "text/plain": [
       "<Figure size 432x288 with 1 Axes>"
      ]
     },
     "metadata": {},
     "output_type": "display_data"
    }
   ],
   "source": [
    "divs_bar_graph_before_taxes = divs_per_account.plot(kind='bar')"
   ]
  },
  {
   "cell_type": "code",
   "execution_count": null,
   "metadata": {},
   "outputs": [],
   "source": []
  },
  {
   "cell_type": "code",
   "execution_count": 111,
   "metadata": {},
   "outputs": [],
   "source": [
    "divs_dataframe = divs_per_account.reset_index()"
   ]
  },
  {
   "cell_type": "code",
   "execution_count": 112,
   "metadata": {},
   "outputs": [],
   "source": [
    "divs_net = divs_dataframe.iloc[2,1] *.8"
   ]
  },
  {
   "cell_type": "code",
   "execution_count": 113,
   "metadata": {},
   "outputs": [
    {
     "data": {
      "text/plain": [
       "8611.536"
      ]
     },
     "execution_count": 113,
     "metadata": {},
     "output_type": "execute_result"
    }
   ],
   "source": []
  },
  {
   "cell_type": "code",
   "execution_count": null,
   "metadata": {},
   "outputs": [],
   "source": []
  },
  {
   "cell_type": "code",
   "execution_count": null,
   "metadata": {},
   "outputs": [],
   "source": []
  },
  {
   "cell_type": "code",
   "execution_count": null,
   "metadata": {},
   "outputs": [],
   "source": []
  },
  {
   "cell_type": "code",
   "execution_count": 71,
   "metadata": {},
   "outputs": [],
   "source": [
    "div_per_account = (div_ttm  * shares_held) / 100"
   ]
  },
  {
   "cell_type": "code",
   "execution_count": null,
   "metadata": {},
   "outputs": [],
   "source": []
  },
  {
   "cell_type": "code",
   "execution_count": 72,
   "metadata": {},
   "outputs": [
    {
     "data": {
      "text/plain": [
       "Account Type\n",
       "Tax Deferred    172223.040564\n",
       "Tax Exempt       28952.335676\n",
       "Taxable         540276.343880\n",
       "dtype: float64"
      ]
     },
     "execution_count": 72,
     "metadata": {},
     "output_type": "execute_result"
    }
   ],
   "source": [
    "div_per_account"
   ]
  },
  {
   "cell_type": "code",
   "execution_count": null,
   "metadata": {},
   "outputs": [],
   "source": []
  }
 ],
 "metadata": {
  "kernelspec": {
   "display_name": "Python 3",
   "language": "python",
   "name": "python3"
  },
  "language_info": {
   "codemirror_mode": {
    "name": "ipython",
    "version": 3
   },
   "file_extension": ".py",
   "mimetype": "text/x-python",
   "name": "python",
   "nbconvert_exporter": "python",
   "pygments_lexer": "ipython3",
   "version": "3.6.5"
  }
 },
 "nbformat": 4,
 "nbformat_minor": 2
}
